{
 "cells": [
  {
   "cell_type": "code",
   "execution_count": 1,
   "id": "96a17abd",
   "metadata": {},
   "outputs": [
    {
     "data": {
      "text/html": [
       "<style>.container { width:100% !important; }</style>"
      ],
      "text/plain": [
       "<IPython.core.display.HTML object>"
      ]
     },
     "metadata": {},
     "output_type": "display_data"
    },
    {
     "name": "stdout",
     "output_type": "stream",
     "text": [
      "true\n",
      "Successfully loaded Singular\n"
     ]
    }
   ],
   "source": [
    "import csv\n",
    "from IPython.core.display import display, HTML\n",
    "display(HTML(\"<style>.container { width:100% !important; }</style>\"))\n",
    "\n",
    "load('/NumericalSemigroup.sage')\n",
    "load('/KunzPoset.sage')\n",
    "load('/PlotKunzPoset.sage')"
   ]
  },
  {
   "cell_type": "code",
   "execution_count": 2,
   "id": "b9042dcd",
   "metadata": {},
   "outputs": [],
   "source": [
    "#create your file location\n",
    "file_location = '/home/sage/notebooks/Documents/Semigroup_Research/'"
   ]
  },
  {
   "cell_type": "code",
   "execution_count": 3,
   "id": "08d8fa10",
   "metadata": {},
   "outputs": [],
   "source": [
    "def csv_creation_no_repeats(min_elem, dimension = 0, csv_file_path = file_location):\n",
    "    \"\"\"Provide a minimal element and optional dimension and program creates a csv file of given minimal element and dimension\n",
    "        Args: \n",
    "            min_elem (int)\n",
    "            dimension(int): defaults to 0 which creates a csv that assumes we are not picking any specific dimension\n",
    "    \"\"\"\n",
    "    \n",
    "    if dimension == 0:\n",
    "        facfile = csv_file_path + 'full_face_lattice_m3-14/m%d.fac' % min_elem\n",
    "        hpfile = csv_file_path + 'full_face_lattice_m3-14/m%d.out' % min_elem\n",
    "\n",
    "        mybigtable = set([])\n",
    "\n",
    "        for P in KunzPoset.IterateFacesFromNormaliz(face_lattice_file_path=facfile, hplane_file_path=hpfile):\n",
    "            entry = (P.m, len(P.atoms) + 1, len(P.poset.maximal_elements()), len(P.FullMinimalPresentation()), P.Dimension())\n",
    "            mybigtable = mybigtable | set([entry])\n",
    "\n",
    "        mybigtable = sorted(list(set(mybigtable)))\n",
    "\n",
    "        #Write tuples into a CSV file\n",
    "        csv_file_path = csv_file_path + 'csv_creations/M%d_sorted.csv' % min_elem\n",
    "\n",
    "        with open(csv_file_path, 'w') as csvfile:\n",
    "            csv_writer = csv.writer(csvfile)\n",
    "\n",
    "        #Write the header\n",
    "            csv_writer.writerow(['Minimal Element', 'Embedding Dimension', 'Type', 'Minimal Trades', 'Dimension'])\n",
    "\n",
    "            for entry in mybigtable:\n",
    "                csv_writer.writerow(entry)\n",
    "\n",
    "        print(f\"CSV file '{csv_file_path}' created successfully.\")\n",
    "    else:\n",
    "        facfile = csv_file_path + 'full_face_lattice_m3-14/m%d.fac' % min_elem\n",
    "        hpfile = csv_file_path + 'full_face_lattice_m3-14/m%d.out' % min_elem\n",
    "\n",
    "        mybigtable = set([])\n",
    "\n",
    "        for P in KunzPoset.IterateFacesFromNormaliz(face_lattice_file_path=facfile, hplane_file_path=hpfile, dimension = dimension): \n",
    "            entry = (P.m, len(P.atoms) + 1, len(P.poset.maximal_elements()), len(P.FullMinimalPresentation()), P.Dimension())\n",
    "            mybigtable = mybigtable | set([entry])\n",
    "\n",
    "        mybigtable = sorted(list(set(mybigtable)))\n",
    "\n",
    "        #Write tuples into a CSV file\n",
    "        csv_file_path = csv_file_path + 'csv_creations/M%d_dim%d_sorted.csv' % (min_elem, dimension)\n",
    "\n",
    "        with open(csv_file_path, 'w') as csvfile:\n",
    "            csv_writer = csv.writer(csvfile)\n",
    "\n",
    "        #Write the header\n",
    "            csv_writer.writerow(['Minimal Element', 'Embedding Dimension', 'Type', 'Minimal Trades', 'Dimension'])\n",
    "\n",
    "            for entry in mybigtable:\n",
    "                csv_writer.writerow(entry)\n",
    "\n",
    "        print(f\"CSV file '{csv_file_path}' created successfully.\")"
   ]
  },
  {
   "cell_type": "code",
   "execution_count": 23,
   "id": "a1e43196",
   "metadata": {},
   "outputs": [],
   "source": [
    "def merging_csvs(min_elem, csv_file_path = file_location):\n",
    "    \"\"\"Provide a minimal element and this function pulls the csv of that minimal elements different dimensions and puts them into one csv file\n",
    "        Args:\n",
    "            min_elem (int)\n",
    "    \"\"\"\n",
    "    #make table for total M with all dimensions\n",
    "    mybigtable = []\n",
    "    \n",
    "    for dimension in range(1, min_elem):\n",
    "        with open(csv_file_path + 'csv_creations/M%d_dim%d_sorted.csv' % (min_elem, dimension)) as csvfile:\n",
    "            reader = csv.reader(csvfile)\n",
    "\n",
    "            next(reader) #skips the first row (titles)\n",
    "\n",
    "            for row in reader:\n",
    "                for i in range(len(row)):\n",
    "                    row[i] = int(row[i])\n",
    "                mybigtable.append(list(row))\n",
    "\n",
    "    #sort list\n",
    "    mybigtable = sorted(mybigtable)\n",
    "    #create csv of total M with all dimensions that is sorted\n",
    "    csv_file_path = csv_file_path + 'csv_creations/M%d_sorted.csv' % min_elem\n",
    "\n",
    "    with open(csv_file_path, 'w') as csvfile:\n",
    "        csv_writer = csv.writer(csvfile)\n",
    "\n",
    "    #Write the header\n",
    "        csv_writer.writerow(['Minimal Element', 'Embedding Dimension', 'Type', 'Minimal Trades', 'Dimension'])\n",
    "\n",
    "        for entry in mybigtable:\n",
    "            csv_writer.writerow(entry)\n",
    "\n",
    "    print(f\"CSV file '{csv_file_path}' created successfully.\")"
   ]
  },
  {
   "cell_type": "code",
   "execution_count": 5,
   "id": "528f03d9",
   "metadata": {},
   "outputs": [],
   "source": [
    "def first_3_columns(min_elem, csv_file_path = file_location):\n",
    "    \"\"\"This function takes a csv file and prunes it by only appending the first 3 entries of each row\n",
    "        Args:\n",
    "            min_elem (int): minimal element that provides the file location of the given csv\n",
    "    \"\"\"\n",
    "    \n",
    "    mybigtable = []\n",
    "    \n",
    "    with open(csv_file_path + 'csv_creations/M%d_sorted.csv' % (min_elem)) as csvfile:\n",
    "        reader = csv.reader(csvfile)\n",
    "\n",
    "        next(reader) #skips the first row (titles)\n",
    "        \n",
    "        for row in reader:\n",
    "                for i in range(len(row)):\n",
    "                    row[i] = int(row[i])\n",
    "                mybigtable.append(tuple(row[0:3]))\n",
    "    \n",
    "    mybigtable = sorted(set(mybigtable))\n",
    "    \n",
    "    #create csv of total M with all dimensions that is sorted\n",
    "    csv_file_path = csv_file_path + 'csv_creations/M%d_first3.csv' % min_elem\n",
    "    \n",
    "    with open(csv_file_path, 'w') as csvfile:\n",
    "        csv_writer = csv.writer(csvfile)\n",
    "\n",
    "        #Write the header\n",
    "        csv_writer.writerow(['Minimal Element', 'Embedding Dimension', 'Type'])\n",
    "\n",
    "        for entry in mybigtable:\n",
    "            csv_writer.writerow(entry)\n",
    "\n",
    "    print(f\"CSV file '{csv_file_path}' created successfully.\")"
   ]
  },
  {
   "cell_type": "code",
   "execution_count": 6,
   "id": "7f7ea021",
   "metadata": {},
   "outputs": [],
   "source": [
    "def poset_finder(min_elem, embed_dim, Type, dimension = 0, csv_file_path = file_location):\n",
    "    \"\"\"Returns a list of poset objects based on minimal element, embed_dim, type, and optionally dimension\n",
    "        Args: \n",
    "            min_elem (int)\n",
    "            embed_dim (int)\n",
    "            Type (int)\n",
    "            dimension (int): defaults to 0\n",
    "        \n",
    "        Returns:\n",
    "            A list of poset objects\n",
    "    \"\"\"\n",
    "    \n",
    "    specialposets = []\n",
    "    \n",
    "    if dimension == 0:\n",
    "        facfile = csv_file_path + 'full_face_lattice_m3-14/m%d.fac' % min_elem\n",
    "        hpfile = csv_file_path + 'full_face_lattice_m3-14/m%d.out' % min_elem\n",
    "\n",
    "        for P in KunzPoset.IterateFacesFromNormaliz(face_lattice_file_path=facfile, hplane_file_path=hpfile): \n",
    "\n",
    "            entry = (P.m, len(P.atoms) + 1, len(P.poset.maximal_elements()))\n",
    "\n",
    "            if entry[0] == min_elem and entry[1] == embed_dim and entry[2] == Type:\n",
    "                specialposets.append(P)\n",
    "                \n",
    "    else:\n",
    "        facfile = csv_file_path + 'full_face_lattice_m3-14/m%d.fac' % min_elem\n",
    "        hpfile = csv_file_path + 'full_face_lattice_m3-14/m%d.out' % min_elem\n",
    "\n",
    "        for P in KunzPoset.IterateFacesFromNormaliz(face_lattice_file_path=facfile, hplane_file_path=hpfile, dimension = dimension): \n",
    "\n",
    "            entry = (P.m, len(P.atoms) + 1, len(P.poset.maximal_elements()))\n",
    "\n",
    "            if entry[0] == min_elem and entry[1] == embed_dim and entry[2] == Type:\n",
    "                specialposets.append(P)\n",
    "    \n",
    "    return specialposets"
   ]
  },
  {
   "cell_type": "code",
   "execution_count": 26,
   "id": "ef29add2",
   "metadata": {
    "scrolled": true
   },
   "outputs": [
    {
     "data": {
      "image/png": "[encoded data removed]",
      "text/plain": [
       "Graphics Array of size 1 x 3"
      ]
     },
     "execution_count": 26,
     "metadata": {},
     "output_type": "execute_result"
    }
   ],
   "source": [
    "min_elem = 4\n",
    "embed_dim = 3\n",
    "Type = 1\n",
    "\n",
    "graphics_array([P.poset.plot() for P in poset_finder(min_elem, embed_dim, Type)])"
   ]
  }
 ],
 "metadata": {
  "kernelspec": {
   "display_name": "SageMath 9.5",
   "language": "sage",
   "name": "sagemath"
  },
  "language_info": {
   "codemirror_mode": {
    "name": "ipython",
    "version": 3
   },
   "file_extension": ".py",
   "mimetype": "text/x-python",
   "name": "python",
   "nbconvert_exporter": "python",
   "pygments_lexer": "ipython3",
   "version": "3.9.9"
  }
 },
 "nbformat": 4,
 "nbformat_minor": 5
}
